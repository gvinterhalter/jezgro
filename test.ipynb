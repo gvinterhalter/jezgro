{
 "cells": [
  {
   "cell_type": "markdown",
   "metadata": {
    "collapsed": false
   },
   "source": [
    "# C++ Jezgro\n"
   ]
  },
  {
   "cell_type": "markdown",
   "metadata": {},
   "source": [
    "Po pokretanju vec je automatski izvrsena celija:\n",
    "    #include <iostream>\n",
    "    using namespace std;\n",
    "    \n",
    "%r je line magic i izvrsava kod kao sto bi bio izvrsen u main funkciji\n",
    "\n",
    "%%r je cell magic i celu celiju tretira kao da je main funkcija"
   ]
  },
  {
   "cell_type": "code",
   "execution_count": 1,
   "metadata": {
    "collapsed": false
   },
   "outputs": [
    {
     "name": "stdout",
     "output_type": "stream",
     "text": [
      "2\n",
      "Hello\n"
     ]
    }
   ],
   "source": [
    "//%debug 0\n",
    "int a = 2;\n",
    "%r cout << a << endl;\n",
    "\n",
    "string b  = \"Hello\";\n",
    "%r cout << b << endl;\n",
    "\n",
    "// samo deklarisemo funkciju\n",
    "void f(int i, const string & s){\n",
    "    while(i--)\n",
    "        cout << i << \":\" << s << endl;\n",
    "}\n",
    "\n"
   ]
  },
  {
   "cell_type": "code",
   "execution_count": 2,
   "metadata": {
    "collapsed": false
   },
   "outputs": [
    {
     "name": "stdout",
     "output_type": "stream",
     "text": [
      "%debug = False\n"
     ]
    }
   ],
   "source": [
    "// deklarisemo jos jednu funkciju\n",
    "void g(void){\n",
    "    f(a, b);\n",
    "}"
   ]
  },
  {
   "cell_type": "code",
   "execution_count": 3,
   "metadata": {
    "collapsed": false
   },
   "outputs": [
    {
     "name": "stdout",
     "output_type": "stream",
     "text": [
      "1:Hello\n",
      "0:Hello\n",
      "4:World\n",
      "3:World\n",
      "2:World\n",
      "1:World\n",
      "0:World\n"
     ]
    }
   ],
   "source": [
    "%%r \n",
    "g();    \n",
    "cout << \"\"\n",
    "a = 5;                                                                       \n",
    "f(a, \"World\");  "
   ]
  },
  {
   "cell_type": "markdown",
   "metadata": {},
   "source": [
    "# Problem je redosled pretrazivanja za linkovanje"
   ]
  },
  {
   "cell_type": "code",
   "execution_count": null,
   "metadata": {
    "collapsed": false
   },
   "outputs": [],
   "source": [
    "%debug\n",
    "long a = 3333;\n",
    "%r cout << a << endl;"
   ]
  },
  {
   "cell_type": "markdown",
   "metadata": {},
   "source": [
    "Uveli smo novu definiciju za a (long) i to izgleda kao da radi medjutim. \n",
    "\n",
    "AKo ponovo pokusamo da pristupimo 'a' u drugoj celiji linker ce naci ono prov int a... :("
   ]
  },
  {
   "cell_type": "code",
   "execution_count": null,
   "metadata": {
    "collapsed": false
   },
   "outputs": [],
   "source": [
    "%%r \n",
    "cout << a; // nasao je staro a :(\n",
    "a = 42; // ali "
   ]
  },
  {
   "cell_type": "markdown",
   "metadata": {},
   "source": [
    "Ali mozemo da menjamo vrednosti bez problema\n",
    "\n",
    "sto nam ne pomaze bas za funkcije (jedino da uvek koristimo)\n",
    "pokazivace  na funkcije, \n",
    "\n",
    "onda bi mogli da im menjamo definiciju f-je, promenom vrednosti pokazivaca."
   ]
  },
  {
   "cell_type": "code",
   "execution_count": null,
   "metadata": {
    "collapsed": false
   },
   "outputs": [],
   "source": [
    "%r cout << a;"
   ]
  },
  {
   "cell_type": "markdown",
   "metadata": {},
   "source": [
    "## Primeri greske kompilacije i linkinga"
   ]
  },
  {
   "cell_type": "code",
   "execution_count": null,
   "metadata": {
    "collapsed": false
   },
   "outputs": [],
   "source": [
    "int ;"
   ]
  },
  {
   "cell_type": "code",
   "execution_count": null,
   "metadata": {
    "collapsed": false
   },
   "outputs": [],
   "source": [
    "extern int c;\n",
    "\n",
    "%r a = c;"
   ]
  },
  {
   "cell_type": "markdown",
   "metadata": {},
   "source": [
    "### Segmentation fault nazalost ubija jezgro :( ..."
   ]
  }
 ],
 "metadata": {
  "kernelspec": {
   "display_name": "C++Jezgro",
   "language": "",
   "name": "jezgro"
  },
  "language_info": {
   "file_extension": ".cpp",
   "mimetype": "text/x-c++src",
   "name": "c++",
   "version": "3.9"
  }
 },
 "nbformat": 4,
 "nbformat_minor": 0
}
