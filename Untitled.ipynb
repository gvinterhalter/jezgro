{
 "cells": [
  {
   "cell_type": "code",
   "execution_count": 1,
   "metadata": {
    "collapsed": false
   },
   "outputs": [
    {
     "name": "stdout",
     "output_type": "stream",
     "text": [
      "\n",
      "============\n",
      "\n",
      "\n",
      "\n",
      "\n",
      "\n",
      "\n",
      "#include <iostream>\n",
      "using namespace std;\n",
      "\n",
      "int a = 3;"
     ]
    }
   ],
   "source": [
    "#include <iostream>\n",
    "using namespace std;\n",
    "\n",
    "int a = 3;"
   ]
  },
  {
   "cell_type": "code",
   "execution_count": 7,
   "metadata": {
    "collapsed": false
   },
   "outputs": [
    {
     "name": "stdout",
     "output_type": "stream",
     "text": [
      "\n",
      "============\n",
      "\n",
      "#include <iostream>\n",
      "using namespace std;\n",
      "\n",
      "extern int a ;\n",
      "\n",
      "/* %r */\n",
      "\n",
      "void print(){\n",
      "    \n",
      "    cout << \"ovo je print \" << a << endl;\n",
      "}\n",
      "/* %r */\n",
      "/* %r */\n",
      "void __run__(void) { cout << \"hello\" << a << endl;\n",
      "a = 54;\n",
      "print(); }"
     ]
    }
   ],
   "source": [
    "%r cout << \"hello\" << a << endl;\n",
    "\n",
    "void print(){\n",
    "    \n",
    "    cout << \"ovo je print \" << a << endl;\n",
    "}\n",
    "\n",
    "%r a = 54;\n",
    "\n",
    "%r print();"
   ]
  },
  {
   "cell_type": "code",
   "execution_count": 3,
   "metadata": {
    "collapsed": false
   },
   "outputs": [
    {
     "name": "stdout",
     "output_type": "stream",
     "text": [
      "\n",
      "============\n",
      "\n",
      "#include <iostream>\n",
      "using namespace std;\n",
      "\n",
      "extern int a ;\n",
      "void print();\n",
      "/* %r */\n",
      "void __run__(void) { print(); }"
     ]
    }
   ],
   "source": [
    "%r print();"
   ]
  }
 ],
 "metadata": {
  "kernelspec": {
   "display_name": "C++Jezgro",
   "language": "",
   "name": "jezgro"
  },
  "language_info": {
   "file_extension": ".cpp",
   "mimetype": "text/x-c++src",
   "name": "c++",
   "version": "3.9"
  }
 },
 "nbformat": 4,
 "nbformat_minor": 0
}
