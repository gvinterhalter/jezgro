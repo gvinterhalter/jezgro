{
 "cells": [
  {
   "cell_type": "markdown",
   "metadata": {
    "collapsed": false
   },
   "source": [
    "# C++ Jezgro\n"
   ]
  },
  {
   "cell_type": "markdown",
   "metadata": {},
   "source": [
    "Po pokretanju vec je automatski izvrsena celija:\n",
    "    #include <iostream>\n",
    "    using namespace std;\n",
    "    \n",
    "%r je line magic i izvrsava kod kao sto bi bio izvrsen u main funkciji  \n",
    "(Idealno  %r bi trebalo da bude statment magic u stilu c++ jezika i da podrzava vise linija)\n",
    "\n",
    "%%r je cell magic i celu celiju tretira kao da je main funkcija"
   ]
  },
  {
   "cell_type": "code",
   "execution_count": null,
   "metadata": {
    "collapsed": false
   },
   "outputs": [],
   "source": [
    "int a = 2;\n",
    "%r cout << a << endl;\n",
    "\n",
    "string b  = \"Hello\";\n",
    "%r cout << b << endl;\n",
    "\n",
    "// samo deklarisemo funkciju\n",
    "void f(int i, const string & s){\n",
    "    while(i--)\n",
    "        cout << i << \":\" << s << endl;\n",
    "}\n",
    "\n"
   ]
  },
  {
   "cell_type": "code",
   "execution_count": null,
   "metadata": {
    "collapsed": false
   },
   "outputs": [],
   "source": [
    "// deklarisemo jos jednu funkciju\n",
    "void g(void){\n",
    "    f(a, b);\n",
    "}"
   ]
  },
  {
   "cell_type": "code",
   "execution_count": null,
   "metadata": {
    "collapsed": false
   },
   "outputs": [],
   "source": [
    "%%r \n",
    "g();    \n",
    "cout << endl;\n",
    "a = 5;                                                                       \n",
    "f(a, \"World\");  "
   ]
  },
  {
   "cell_type": "markdown",
   "metadata": {},
   "source": [
    "Ukljucicemmo %debug da bi demonstrirali iza scene koji kod se zapravo izvrsava"
   ]
  },
  {
   "cell_type": "code",
   "execution_count": null,
   "metadata": {
    "collapsed": false
   },
   "outputs": [],
   "source": [
    "%debug\n",
    "%r = \"Hy\"\n",
    "void p (int c){\n",
    "    cout << c << \" \" <<  b << endl;\n",
    "}\n",
    "%r p(6);"
   ]
  },
  {
   "cell_type": "code",
   "execution_count": 1,
   "metadata": {
    "collapsed": false
   },
   "outputs": [
    {
     "name": "stdout",
     "output_type": "stream",
     "text": [
      "%debug = False\n"
     ]
    }
   ],
   "source": [
    "// ne treba nam vise\n",
    "%debug 0 "
   ]
  },
  {
   "cell_type": "markdown",
   "metadata": {},
   "source": [
    "# Problem je redefinisanje simbola\n",
    "Linker pretrazuje prvo .so koji ucitava pa onda krece od pocetka  \n",
    "da pretrazuje sve ucitane .so (a trebalo bi od kraja, tako da nadje one najsvezije prvo)"
   ]
  },
  {
   "cell_type": "code",
   "execution_count": null,
   "metadata": {
    "collapsed": false
   },
   "outputs": [],
   "source": [
    "long a = 3333;\n",
    "%r cout << a << endl;"
   ]
  },
  {
   "cell_type": "markdown",
   "metadata": {},
   "source": [
    "Uveli smo novu definiciju za a (long) i to izgleda kao da radi medjutim...  \n",
    "AKo ponovo pokusamo da pristupimo 'a' u drugoj celiji linker ce naci ono prov int a... :("
   ]
  },
  {
   "cell_type": "code",
   "execution_count": null,
   "metadata": {
    "collapsed": false
   },
   "outputs": [],
   "source": [
    "%%r \n",
    "cout << a; // nasao je staro a :(\n",
    "a = 42; // ali mozemo da promenimo vrednost"
   ]
  },
  {
   "cell_type": "markdown",
   "metadata": {},
   "source": [
    "Ali mozemo da menjamo vrednost 'a' bez problema.\n"
   ]
  },
  {
   "cell_type": "code",
   "execution_count": null,
   "metadata": {
    "collapsed": false
   },
   "outputs": [],
   "source": [
    "%r cout << a;"
   ]
  },
  {
   "cell_type": "markdown",
   "metadata": {},
   "source": [
    "Ovo je ozbiljan problem jer nas sprecava da redefinisemo funkcije.\n",
    "\n",
    "Jedno resenje bi bilo da se imena simbola numerisu i da se prati njihova numeracija.  \n",
    "Naime ako postoji simbnol a onda bi se .so fajlu u kome se redefinise $a$ svuda promenilo\n",
    "ime na recimo a____broj Svaki sledeci put kad se kompajlira bilo koji .so simbol $a$ bi\n",
    "bio zamenjen najsvezijom verzijom a____broj.  \n",
    "\n",
    "Ovo resenje zahteva ozbiljno  parsiranje (koriscenje libclang) i trenutno je out of the scope.\n"
   ]
  },
  {
   "cell_type": "markdown",
   "metadata": {},
   "source": [
    "Medjutim nije ni to dovoljno.  \n",
    "Recimo ako bi redefinsalii funkciju $f$ u funkciju $g$ koja je vec definisana\n",
    "simbol $f$ bi vec bio prspojen na originalno $f$ i tu se ne moze nista osim\n",
    "da se definicija za $g$ ponovo izvrsi.\n",
    "\n",
    "U ovom slucaju ima smisla da se definicija za $g$ automatski ponovo osvzezi ali\n",
    "sta ako bi to osvezavanje napravilo bug ? Da li je to korektno ponasanje za C++ ?"
   ]
  },
  {
   "cell_type": "markdown",
   "metadata": {},
   "source": [
    "## Primeri greske za magic, kompilacije i linkinga"
   ]
  },
  {
   "cell_type": "code",
   "execution_count": null,
   "metadata": {
    "collapsed": false
   },
   "outputs": [],
   "source": [
    "%run"
   ]
  },
  {
   "cell_type": "code",
   "execution_count": null,
   "metadata": {
    "collapsed": false
   },
   "outputs": [],
   "source": [
    "int ;"
   ]
  },
  {
   "cell_type": "code",
   "execution_count": null,
   "metadata": {
    "collapsed": false
   },
   "outputs": [],
   "source": [
    "extern int c;\n",
    "\n",
    "%r a = c;"
   ]
  },
  {
   "cell_type": "markdown",
   "metadata": {},
   "source": [
    "## Jos neki nedostaci:\n",
    "1. Segmentation fault nazalost ubija jezgro :(\n",
    "2. Trenutno nije moguc interkativni ulaz i izlaz\n",
    "3. Auto completition on the way (zahteva libclang)"
   ]
  }
 ],
 "metadata": {
  "kernelspec": {
   "display_name": "C++Jezgro",
   "language": "",
   "name": "jezgro"
  },
  "language_info": {
   "file_extension": ".cpp",
   "mimetype": "text/x-c++src",
   "name": "c++",
   "version": "3.9"
  }
 },
 "nbformat": 4,
 "nbformat_minor": 0
}
