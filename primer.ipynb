{
 "cells": [
  {
   "cell_type": "markdown",
   "metadata": {
    "collapsed": false
   },
   "source": [
    "# C++ Jezgro\n"
   ]
  },
  {
   "cell_type": "markdown",
   "metadata": {},
   "source": [
    "Po pokretanju vec je automatski izvrsena celija:\n",
    "    #include <iostream>\n",
    "    using namespace std;\n",
    "    \n",
    "%r je line magic i izvrsava kod kao sto bi bio izvrsen u main funkciji\n",
    "\n",
    "%%r je cell magic i celu celiju tretira kao da je main funkcija"
   ]
  },
  {
   "cell_type": "code",
   "execution_count": 20,
   "metadata": {
    "collapsed": false
   },
   "outputs": [
    {
     "name": "stdout",
     "output_type": "stream",
     "text": [
      "2\n",
      "Hello\n"
     ]
    }
   ],
   "source": [
    "int a = 2;\n",
    "%r cout << a << endl;\n",
    "\n",
    "string b  = \"Hello\";\n",
    "%r cout << b << endl;\n",
    "\n",
    "// samo deklarisemo funkciju\n",
    "void f(int i, const string & s){\n",
    "    while(i--)\n",
    "        cout << i << \": \" << s << endl;\n",
    "}\n",
    "\n"
   ]
  },
  {
   "cell_type": "code",
   "execution_count": 21,
   "metadata": {
    "collapsed": false
   },
   "outputs": [
    {
     "name": "stdout",
     "output_type": "stream",
     "text": []
    }
   ],
   "source": [
    "// deklarisemo jos jednu funkciju\n",
    "void g(void){\n",
    "    f(a, b);\n",
    "}"
   ]
  },
  {
   "cell_type": "code",
   "execution_count": 22,
   "metadata": {
    "collapsed": false
   },
   "outputs": [
    {
     "name": "stdout",
     "output_type": "stream",
     "text": [
      "4: Hello\n",
      "3: Hello\n",
      "2: Hello\n",
      "1: Hello\n",
      "0: Hello\n",
      "4: World\n",
      "3: World\n",
      "2: World\n",
      "1: World\n",
      "0: World\n"
     ]
    }
   ],
   "source": [
    "%%r \n",
    "g();                                                                     \n",
    "a = 5;                                                                       \n",
    "f(a, \"World\");  "
   ]
  },
  {
   "cell_type": "markdown",
   "metadata": {},
   "source": [
    "# Problem je redosled pretrazivanja za linkovanje"
   ]
  },
  {
   "cell_type": "code",
   "execution_count": 4,
   "metadata": {
    "collapsed": false
   },
   "outputs": [
    {
     "name": "stdout",
     "output_type": "stream",
     "text": [
      "3333\n"
     ]
    }
   ],
   "source": [
    "long a = 3333;\n",
    "%r cout << a << endl;"
   ]
  },
  {
   "cell_type": "markdown",
   "metadata": {},
   "source": [
    "Uveli smo novu definiciju za a (long) i to izgleda kao da radi medjutim. \n",
    "\n",
    "AKo ponovo pokusamo da pristupimo 'a' u drugoj celiji linker ce naci ono prov int a... :("
   ]
  },
  {
   "cell_type": "code",
   "execution_count": 5,
   "metadata": {
    "collapsed": false
   },
   "outputs": [
    {
     "name": "stdout",
     "output_type": "stream",
     "text": [
      "3"
     ]
    }
   ],
   "source": [
    "%%r \n",
    "cout << a; // nasao je staro a :(\n",
    "a = 42; // ali "
   ]
  },
  {
   "cell_type": "markdown",
   "metadata": {},
   "source": [
    "Ali mozemo da menjamo vrednosti bez problema\n",
    "\n",
    "sto nam ne pomaze bas za funkcije (jedino da uvek koristimo)\n",
    "pokazivace  na funkcije, \n",
    "\n",
    "onda bi mogli da im menjamo definiciju f-je, promenom vrednosti pokazivaca."
   ]
  },
  {
   "cell_type": "code",
   "execution_count": 9,
   "metadata": {
    "collapsed": false
   },
   "outputs": [
    {
     "name": "stdout",
     "output_type": "stream",
     "text": [
      "42"
     ]
    }
   ],
   "source": [
    "%r cout << a;"
   ]
  },
  {
   "cell_type": "markdown",
   "metadata": {},
   "source": [
    "## Primeri greske kompilacije i linkinga"
   ]
  },
  {
   "cell_type": "code",
   "execution_count": 11,
   "metadata": {
    "collapsed": false
   },
   "outputs": [
    {
     "name": "stdout",
     "output_type": "stream",
     "text": [
      "error: declaration does not declare anything [-fpermissive]\n",
      " int ;\n",
      " ^\n"
     ]
    }
   ],
   "source": [
    "int ;"
   ]
  },
  {
   "cell_type": "code",
   "execution_count": 12,
   "metadata": {
    "collapsed": false
   },
   "outputs": [
    {
     "name": "stdout",
     "output_type": "stream",
     "text": [
      "undefined symbol: c"
     ]
    }
   ],
   "source": [
    "extern int c;\n",
    "\n",
    "%r a = c;"
   ]
  },
  {
   "cell_type": "markdown",
   "metadata": {},
   "source": [
    "### Segmentation fault nazalost ubija jezgro :( ..."
   ]
  }
 ],
 "metadata": {
  "kernelspec": {
   "display_name": "C++Jezgro",
   "language": "",
   "name": "jezgro"
  },
  "language_info": {
   "file_extension": ".cpp",
   "mimetype": "text/x-c++src",
   "name": "c++",
   "version": "3.9"
  }
 },
 "nbformat": 4,
 "nbformat_minor": 0
}
