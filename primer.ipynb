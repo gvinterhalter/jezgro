{
 "cells": [
  {
   "cell_type": "code",
   "execution_count": null,
   "metadata": {
    "collapsed": false
   },
   "outputs": [],
   "source": [
    "#include <iostream>\n",
    "using namespace std;\n",
    "extern int c;\n",
    "int a = 3;\n",
    "%r cout << a << endl;\n",
    "string b  = \"Hello\";\n",
    "%r cout << b << endl;\n",
    "void f(int i, const string & s){\n",
    "    string c;\n",
    "    cin >> c;\n",
    "    while(i--)\n",
    "        cout << i << \": \" << c << endl;\n",
    "}\n",
    "\n",
    "%r f(3, \"hello\");\n"
   ]
  },
  {
   "cell_type": "code",
   "execution_count": null,
   "metadata": {
    "collapsed": false
   },
   "outputs": [],
   "source": [
    "void g(void){\n",
    "    f(a, b);\n",
    "}"
   ]
  },
  {
   "cell_type": "code",
   "execution_count": null,
   "metadata": {
    "collapsed": false
   },
   "outputs": [],
   "source": [
    "%%r \n",
    "g();                                                                     \n",
    "a = 3;                                                                       \n",
    "f(a, \"World\");  "
   ]
  },
  {
   "cell_type": "code",
   "execution_count": null,
   "metadata": {
    "collapsed": false
   },
   "outputs": [],
   "source": [
    "long a = 10;\n",
    "%r cout << a << endl;\n",
    "%r f(a, \"AAAA\");"
   ]
  },
  {
   "cell_type": "code",
   "execution_count": null,
   "metadata": {
    "collapsed": false
   },
   "outputs": [],
   "source": [
    " int c = 43;\n",
    "%r cout << c << \"dsfdsf\";"
   ]
  },
  {
   "cell_type": "code",
   "execution_count": null,
   "metadata": {
    "collapsed": false
   },
   "outputs": [],
   "source": [
    "%r cout << 32 << endl;"
   ]
  }
 ],
 "metadata": {
  "kernelspec": {
   "display_name": "C++Jezgro",
   "language": "",
   "name": "jezgro"
  },
  "language_info": {
   "file_extension": ".cpp",
   "mimetype": "text/x-c++src",
   "name": "c++",
   "version": "3.9"
  }
 },
 "nbformat": 4,
 "nbformat_minor": 0
}
