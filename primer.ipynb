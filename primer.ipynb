{
 "cells": [
  {
   "cell_type": "markdown",
   "metadata": {
    "collapsed": false
   },
   "source": [
    "# C++ Jezgro\n"
   ]
  },
  {
   "cell_type": "markdown",
   "metadata": {},
   "source": [
    "Po pokretanju vec je automatski izvrsena celija:\n",
    "    #include <iostream>\n",
    "    using namespace std;\n",
    "    \n",
    "%r je line magic i izvrsava kod kao sto bi bio izvrsen u main funkciji  \n",
    "(Idealno  %r bi trebalo da bude statment magic u stilu c++ jezika i da podrzava vise linija)\n",
    "\n",
    "%%r je cell magic i celu celiju tretira kao da je main funkcija"
   ]
  },
  {
   "cell_type": "code",
   "execution_count": 1,
   "metadata": {
    "collapsed": false
   },
   "outputs": [
    {
     "name": "stdout",
     "output_type": "stream",
     "text": [
      "2\n",
      "Hello\n"
     ]
    }
   ],
   "source": [
    "int a = 2;\n",
    "%r cout << a << endl;\n",
    "\n",
    "string b  = \"Hello\";\n",
    "%r cout << b << endl;\n",
    "\n",
    "// samo deklarisemo funkciju\n",
    "void f(int i, const string & s){\n",
    "    while(i--)\n",
    "        cout << i << \":\" << s << endl;\n",
    "}\n",
    "\n"
   ]
  },
  {
   "cell_type": "code",
   "execution_count": 2,
   "metadata": {
    "collapsed": false
   },
   "outputs": [
    {
     "name": "stdout",
     "output_type": "stream",
     "text": []
    }
   ],
   "source": [
    "// deklarisemo jos jednu funkciju\n",
    "void g(void){\n",
    "    f(a, b);\n",
    "}"
   ]
  },
  {
   "cell_type": "code",
   "execution_count": 3,
   "metadata": {
    "collapsed": false
   },
   "outputs": [
    {
     "name": "stdout",
     "output_type": "stream",
     "text": [
      "1:Hello\n",
      "0:Hello\n",
      "\n",
      "4:World\n",
      "3:World\n",
      "2:World\n",
      "1:World\n",
      "0:World\n"
     ]
    }
   ],
   "source": [
    "%%r \n",
    "g();    \n",
    "cout << endl;\n",
    "a = 5;                                                                       \n",
    "f(a, \"World\");  "
   ]
  },
  {
   "cell_type": "markdown",
   "metadata": {},
   "source": [
    "Ukljucicemmo %debug da bi demonstrirali iza scene koji kod se zapravo izvrsava"
   ]
  },
  {
   "cell_type": "code",
   "execution_count": 4,
   "metadata": {
    "collapsed": false
   },
   "outputs": [
    {
     "name": "stdout",
     "output_type": "stream",
     "text": [
      "%debug = True\n",
      "<----code---->\n",
      "#include <iostream>\n",
      "using namespace std;\n",
      "\n",
      "extern int a ;\n",
      "extern string b  ;\n",
      "void g(void);\n",
      "void f(int i, const string & s);\n",
      "\n",
      "\n",
      "void p (int c){\n",
      "    cout << c << \" \" <<  b << endl;\n",
      "}\n",
      "\n",
      "\n",
      "void __run__(void) { \n",
      "  try{\n",
      "       cout << \"Hy\" << endl;\n",
      " p(6);\n",
      "      cout.flush();\n",
      "  } catch (std::exception& e) {\n",
      "      std::cout << \"Exception catched : \" << e.what() << std::endl;\n",
      "  }\n",
      "}\n",
      "<--------->\n",
      "\n",
      "Hy\n",
      "6 Hello\n"
     ]
    }
   ],
   "source": [
    "%debug\n",
    "%r cout << \"Hy\" << endl;\n",
    "void p (int c){\n",
    "    cout << c << \" \" <<  b << endl;\n",
    "}\n",
    "%r p(6);"
   ]
  },
  {
   "cell_type": "code",
   "execution_count": 5,
   "metadata": {
    "collapsed": false
   },
   "outputs": [
    {
     "name": "stdout",
     "output_type": "stream",
     "text": [
      "%debug = False\n"
     ]
    }
   ],
   "source": [
    "// ne treba nam vise\n",
    "%debug 0 "
   ]
  },
  {
   "cell_type": "markdown",
   "metadata": {},
   "source": [
    "# Problem je redefinisanje simbola\n",
    "Linker pretrazuje prvo .so koji ucitava pa onda krece od pocetka  \n",
    "da pretrazuje sve ucitane .so (a trebalo bi od kraja, tako da nadje one najsvezije prvo)"
   ]
  },
  {
   "cell_type": "code",
   "execution_count": 6,
   "metadata": {
    "collapsed": false
   },
   "outputs": [
    {
     "name": "stdout",
     "output_type": "stream",
     "text": [
      "3333\n"
     ]
    }
   ],
   "source": [
    "long a = 3333;\n",
    "%r cout << a << endl;"
   ]
  },
  {
   "cell_type": "markdown",
   "metadata": {},
   "source": [
    "Uveli smo novu definiciju long $a$ i to izgleda kao da radi medjutim...  \n",
    "Ako ponovo pokusamo da pristupimo $a$ u drugoj celiji linker ce naci ono prvo int $a$... :("
   ]
  },
  {
   "cell_type": "code",
   "execution_count": 7,
   "metadata": {
    "collapsed": false
   },
   "outputs": [
    {
     "name": "stdout",
     "output_type": "stream",
     "text": [
      "5"
     ]
    }
   ],
   "source": [
    "%%r \n",
    "cout << a; // nasao je staro a :(\n",
    "a = 42; // ali mozemo da promenimo vrednost"
   ]
  },
  {
   "cell_type": "markdown",
   "metadata": {},
   "source": [
    "Ali mozemo da menjamo vrednost $a$ bez problema.\n"
   ]
  },
  {
   "cell_type": "code",
   "execution_count": 8,
   "metadata": {
    "collapsed": false
   },
   "outputs": [
    {
     "name": "stdout",
     "output_type": "stream",
     "text": [
      "42"
     ]
    }
   ],
   "source": [
    "%r cout << a;"
   ]
  },
  {
   "cell_type": "markdown",
   "metadata": {},
   "source": [
    "Ovo je ozbiljan problem jer nas sprecava da redefinisemo funkcije.\n",
    "\n",
    "Jedno resenje bi bilo da se imena simbola numerisu i da se prati njihova numeracija.\n",
    "Naime ako postoji simbol $a$ onda bi se u celiji koja redefinise $a$ svuda promenilo\n",
    "ime simbola $a$ dodavanjem nekog prefiksa. Svaki sledeci put pri  kompilaciji sve pojave\n",
    "simbola $a$ bi bile zamenjene najsvezijom verzijom sa prefiksom.\n",
    "\n",
    "\n",
    "Ovo resenje zahteva ozbiljno  parsiranje (koriscenje libclang) i trenutno je out of the scope.\n"
   ]
  },
  {
   "cell_type": "markdown",
   "metadata": {},
   "source": [
    "__ Medjutim nije ni to dovoljno  __\n",
    "\n",
    "Ako bi redefinsalii funkciju $f$ to ne bi uticalo na njeno pozivanje u funkciji $g$.\n",
    "Jer $g$ je vec definisano i simbol $f$ je resolv-ovan na staru funkciju. Tu se ne moze nista osim\n",
    "da se redefinise $g$. (Ali onda mozda opet mora da se redefinise neki kod koji poziva $g$)\n",
    "\n",
    "U ovom slucaju ima smisla da se definicija za $g$ automatski ponovo osvezi.  \n",
    "Ali sta ako bi to osvezavanje napravilo bug?  \n",
    "Da li je to korektno ponasanje za C++?\n",
    "\n",
    "Da li mozda prosto koristiti pokazivace na funkcije a redefinisanje posmatrati kao dodelu novih vrednosti?\n",
    "Jedino promena potipisa bi zahtevala novo definisanje pokazivaca na funkciju.\n",
    "\n",
    "Type Erasure mozda ?"
   ]
  },
  {
   "cell_type": "markdown",
   "metadata": {},
   "source": [
    "## Primeri greske za magic, kompilacije i linkinga"
   ]
  },
  {
   "cell_type": "code",
   "execution_count": 9,
   "metadata": {
    "collapsed": false
   },
   "outputs": [
    {
     "name": "stdout",
     "output_type": "stream",
     "text": [
      "%run is not defined"
     ]
    }
   ],
   "source": [
    "%run"
   ]
  },
  {
   "cell_type": "code",
   "execution_count": 10,
   "metadata": {
    "collapsed": false
   },
   "outputs": [
    {
     "name": "stdout",
     "output_type": "stream",
     "text": [
      "error: declaration does not declare anything [-fpermissive]\n",
      " int ;\n",
      " ^\n"
     ]
    }
   ],
   "source": [
    "int ;"
   ]
  },
  {
   "cell_type": "code",
   "execution_count": 11,
   "metadata": {
    "collapsed": false
   },
   "outputs": [
    {
     "name": "stdout",
     "output_type": "stream",
     "text": [
      "undefined symbol: c"
     ]
    }
   ],
   "source": [
    "extern int c;\n",
    "\n",
    "%r a = c;"
   ]
  },
  {
   "cell_type": "markdown",
   "metadata": {},
   "source": [
    "## Jos neki nedostaci:\n",
    "1. Segmentation fault nazalost ubija jezgro :(\n",
    "2. Trenutno nije moguc interkativni ulaz i izlaz\n",
    "3. Auto completition on the way (zahteva libclang)\n",
    "4. Podrska za clase, strukture i sablone fali (ceka se libclang)"
   ]
  }
 ],
 "metadata": {
  "kernelspec": {
   "display_name": "C++Jezgro",
   "language": "",
   "name": "jezgro"
  },
  "language_info": {
   "file_extension": ".cpp",
   "mimetype": "text/x-c++src",
   "name": "c++",
   "version": "3.9"
  }
 },
 "nbformat": 4,
 "nbformat_minor": 0
}
