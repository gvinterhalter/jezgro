{
 "cells": [
  {
   "cell_type": "code",
   "execution_count": 5,
   "metadata": {
    "collapsed": false
   },
   "outputs": [
    {
     "name": "stdout",
     "output_type": "stream",
     "text": [
      "2\n",
      "Hello\n"
     ]
    }
   ],
   "source": [
    "#include <iostream>\n",
    "using namespace std;\n",
    "int a = 2;\n",
    "%r cout << a << endl;\n",
    "string b  = \"Hello\";\n",
    "%r cout << b << endl;\n",
    "void f(int i, const string & s){\n",
    "    while(i--)\n",
    "        cout << i << \": \" << s << endl;\n",
    "}"
   ]
  },
  {
   "cell_type": "code",
   "execution_count": 7,
   "metadata": {
    "collapsed": false
   },
   "outputs": [
    {
     "name": "stdout",
     "output_type": "stream",
     "text": []
    }
   ],
   "source": [
    "void g(void){\n",
    "    f(a, b);\n",
    "}"
   ]
  },
  {
   "cell_type": "code",
   "execution_count": 8,
   "metadata": {
    "collapsed": false
   },
   "outputs": [
    {
     "name": "stdout",
     "output_type": "stream",
     "text": [
      "4: Hello\n",
      "3: Hello\n",
      "2: Hello\n",
      "1: Hello\n",
      "0: Hello\n",
      "4: World\n",
      "3: World\n",
      "2: World\n",
      "1: World\n",
      "0: World\n"
     ]
    }
   ],
   "source": [
    "%r g();                                                                     \n",
    "%r a = 5;                                                                       \n",
    "%r f(a, \"World\");  "
   ]
  },
  {
   "cell_type": "code",
   "execution_count": 4,
   "metadata": {
    "collapsed": false
   },
   "outputs": [
    {
     "name": "stdout",
     "output_type": "stream",
     "text": [
      "10\n",
      "9: AAAA\n",
      "8: AAAA\n",
      "7: AAAA\n",
      "6: AAAA\n",
      "5: AAAA\n",
      "4: AAAA\n",
      "3: AAAA\n",
      "2: AAAA\n",
      "1: AAAA\n",
      "0: AAAA\n"
     ]
    }
   ],
   "source": [
    "long a = 10;\n",
    "%r cout << a << endl;\n",
    "%r f(a, \"AAAA\");"
   ]
  },
  {
   "cell_type": "code",
   "execution_count": null,
   "metadata": {
    "collapsed": false
   },
   "outputs": [],
   "source": [
    " int c = 43;\n",
    "%r cout << c << \"dsfdsf\";"
   ]
  },
  {
   "cell_type": "code",
   "execution_count": null,
   "metadata": {
    "collapsed": false
   },
   "outputs": [],
   "source": [
    "%r cout << 32 << endl;"
   ]
  }
 ],
 "metadata": {
  "kernelspec": {
   "display_name": "C++Jezgro",
   "language": "",
   "name": "jezgro"
  },
  "language_info": {
   "file_extension": ".cpp",
   "mimetype": "text/x-c++src",
   "name": "c++",
   "version": "3.9"
  }
 },
 "nbformat": 4,
 "nbformat_minor": 0
}
