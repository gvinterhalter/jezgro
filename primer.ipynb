{
 "cells": [
  {
   "cell_type": "markdown",
   "metadata": {
    "collapsed": false
   },
   "source": [
    "# C++ Jezgro\n"
   ]
  },
  {
   "cell_type": "markdown",
   "metadata": {},
   "source": [
    "Po pokretanju vec je automatski izvrsena celija:\n",
    "    #include <iostream>\n",
    "    using namespace std;\n",
    "    \n",
    "%r je line magic i izvrsava kod kao sto bi bio izvrsen u main funkciji\n",
    "\n",
    "%%r je cell magic i celu celiju tretira kao da je main funkcija"
   ]
  },
  {
   "cell_type": "code",
   "execution_count": 1,
   "metadata": {
    "collapsed": false
   },
   "outputs": [
    {
     "name": "stdout",
     "output_type": "stream",
     "text": [
      "2\n",
      "Hello\n"
     ]
    }
   ],
   "source": [
    "//%debug 0\n",
    "int a = 2;\n",
    "%r cout << a << endl;\n",
    "\n",
    "string b  = \"Hello\";\n",
    "%r cout << b << endl;\n",
    "\n",
    "// samo deklarisemo funkciju\n",
    "void f(int i, const string & s){\n",
    "    while(i--)\n",
    "        cout << i << \":\" << s << endl;\n",
    "}\n",
    "\n"
   ]
  },
  {
   "cell_type": "code",
   "execution_count": 2,
   "metadata": {
    "collapsed": false
   },
   "outputs": [
    {
     "name": "stdout",
     "output_type": "stream",
     "text": []
    }
   ],
   "source": [
    "// deklarisemo jos jednu funkciju\n",
    "void g(void){\n",
    "    f(a, b);\n",
    "}"
   ]
  },
  {
   "cell_type": "code",
   "execution_count": 3,
   "metadata": {
    "collapsed": false
   },
   "outputs": [
    {
     "name": "stdout",
     "output_type": "stream",
     "text": [
      "1:Hello\n",
      "0:Hello\n",
      "\n",
      "1:World\n",
      "0:World\n"
     ]
    }
   ],
   "source": [
    "%%r \n",
    "g();    \n",
    "cout << endl;\n",
    "a = 2;                                                                       \n",
    "f(a, \"World\");  "
   ]
  },
  {
   "cell_type": "markdown",
   "metadata": {},
   "source": [
    "# Problem je redosled pretrazivanja za linkovanje"
   ]
  },
  {
   "cell_type": "code",
   "execution_count": 4,
   "metadata": {
    "collapsed": false
   },
   "outputs": [
    {
     "name": "stdout",
     "output_type": "stream",
     "text": [
      "%debug = True\n",
      "<----code---->\n",
      "#include <iostream>\n",
      "using namespace std;\n",
      "\n",
      "extern string b  ;\n",
      "void g(void);\n",
      "void f(int i, const string & s);\n",
      "\n",
      "long a = 3333;\n",
      "\n",
      "\n",
      "void __run__(void) { \n",
      "  try{\n",
      "       cout << a << endl;\n",
      "      cout.flush();\n",
      "  } catch (std::exception& e) {\n",
      "      std::cout << \"Exception catched : \" << e.what() << std::endl;\n",
      "  }\n",
      "}\n",
      "<--------->\n",
      "\n",
      "3333\n"
     ]
    }
   ],
   "source": [
    "%debug\n",
    "long a = 3333;\n",
    "%r cout << a << endl;"
   ]
  },
  {
   "cell_type": "markdown",
   "metadata": {},
   "source": [
    "Uveli smo novu definiciju za a (long) i to izgleda kao da radi medjutim. \n",
    "\n",
    "AKo ponovo pokusamo da pristupimo 'a' u drugoj celiji linker ce naci ono prov int a... :("
   ]
  },
  {
   "cell_type": "code",
   "execution_count": 5,
   "metadata": {
    "collapsed": false
   },
   "outputs": [
    {
     "name": "stdout",
     "output_type": "stream",
     "text": [
      "<----code---->\n",
      "#include <iostream>\n",
      "using namespace std;\n",
      "\n",
      "extern string b  ;\n",
      "extern long a ;\n",
      "void g(void);\n",
      "void f(int i, const string & s);\n",
      "/* run */\n",
      "\n",
      "void __run__(void) { \n",
      "  try{\n",
      "       \n",
      "cout << a; \n",
      "a = 42; \n",
      "      cout.flush();\n",
      "  } catch (std::exception& e) {\n",
      "      std::cout << \"Exception catched : \" << e.what() << std::endl;\n",
      "  }\n",
      "}\n",
      "<--------->\n",
      "\n",
      "2"
     ]
    }
   ],
   "source": [
    "%%r \n",
    "cout << a; // nasao je staro a :(\n",
    "a = 42; // ali "
   ]
  },
  {
   "cell_type": "markdown",
   "metadata": {},
   "source": [
    "Ali mozemo da menjamo vrednosti bez problema\n",
    "\n",
    "sto nam ne pomaze bas za funkcije (jedino da uvek koristimo)\n",
    "pokazivace  na funkcije, \n",
    "\n",
    "onda bi mogli da im menjamo definiciju f-je, promenom vrednosti pokazivaca."
   ]
  },
  {
   "cell_type": "code",
   "execution_count": 6,
   "metadata": {
    "collapsed": false
   },
   "outputs": [
    {
     "name": "stdout",
     "output_type": "stream",
     "text": [
      "<----code---->\n",
      "#include <iostream>\n",
      "using namespace std;\n",
      "\n",
      "extern string b  ;\n",
      "extern long a ;\n",
      "void g(void);\n",
      "void f(int i, const string & s);\n",
      "\n",
      "\n",
      "void __run__(void) { \n",
      "  try{\n",
      "       cout << a;\n",
      "      cout.flush();\n",
      "  } catch (std::exception& e) {\n",
      "      std::cout << \"Exception catched : \" << e.what() << std::endl;\n",
      "  }\n",
      "}\n",
      "<--------->\n",
      "\n",
      "42"
     ]
    }
   ],
   "source": [
    "%r cout << a;"
   ]
  },
  {
   "cell_type": "markdown",
   "metadata": {},
   "source": [
    "## Primeri greske kompilacije i linkinga"
   ]
  },
  {
   "cell_type": "code",
   "execution_count": null,
   "metadata": {
    "collapsed": false
   },
   "outputs": [],
   "source": [
    "int ;"
   ]
  },
  {
   "cell_type": "code",
   "execution_count": null,
   "metadata": {
    "collapsed": false
   },
   "outputs": [],
   "source": [
    "extern int c;\n",
    "\n",
    "%r a = c;"
   ]
  },
  {
   "cell_type": "markdown",
   "metadata": {},
   "source": [
    "### Segmentation fault nazalost ubija jezgro :( ..."
   ]
  }
 ],
 "metadata": {
  "kernelspec": {
   "display_name": "C++Jezgro",
   "language": "",
   "name": "jezgro"
  },
  "language_info": {
   "file_extension": ".cpp",
   "mimetype": "text/x-c++src",
   "name": "c++",
   "version": "3.9"
  }
 },
 "nbformat": 4,
 "nbformat_minor": 0
}
